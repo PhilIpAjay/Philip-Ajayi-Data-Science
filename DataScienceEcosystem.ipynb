{
  "metadata": {
    "language_info": {
      "codemirror_mode": {
        "name": "javascript"
      },
      "file_extension": ".js",
      "mimetype": "text/javascript",
      "name": "javascript",
      "nbconvert_exporter": "javascript",
      "pygments_lexer": "javascript",
      "version": "es2017"
    },
    "kernelspec": {
      "name": "javascript",
      "display_name": "JavaScript",
      "language": "javascript"
    }
  },
  "nbformat_minor": 4,
  "nbformat": 4,
  "cells": [
    {
      "cell_type": "markdown",
      "source": "# Data Science Tools and Ecosystem\n",
      "metadata": {}
    },
    {
      "cell_type": "markdown",
      "source": "# In this notebook, Data Science Tools and Ecosystem are summarized",
      "metadata": {}
    },
    {
      "cell_type": "markdown",
      "source": "**Objectives:**\n\n- List popular languages for data science\n- List data science libraries\n- Create a table of Data Science tools\n- Demonstrate arithmetic expressions in Python\n- Share a Jupyter Notebook on GitHub",
      "metadata": {}
    },
    {
      "cell_type": "markdown",
      "source": "## Some of the popular languages that Data Scientists use are:\n\n1. Python\n2. R\n3. SQL\n4. Julia\n5. MATLAB\n6. Python\n",
      "metadata": {}
    },
    {
      "cell_type": "markdown",
      "source": "## Some of the popular libraries used by Data Scientists are:\n\n1. NumPy\n2. Pandas\n3. Matplotlib\n4. Seaborn\n5. Scikit-learn\n6. TensorFlow\n7. Keras\n8. PyTorch\n",
      "metadata": {}
    },
    {
      "cell_type": "markdown",
      "source": "| Data Science Tools | Description |\n| :--- | :--- |\n| Jupyter Notebook | Open-source web application that allows you to create and share documents that contain live code, equations, visualizations and narrative text |\n| RStudio | Free and open-source integrated development environment (IDE) for R |\n| Spyder | Open-source cross-platform integrated development environment (IDE) for scientific programming in the Python language |\n| VSCode | Free and open-source source-code editor developed by Microsoft |\n",
      "metadata": {}
    },
    {
      "cell_type": "markdown",
      "source": "### Below are a few examples of evaluating arithmetic expressions in Python:\n\nArithmetic expressions are a fundamental part of programming and data science. In Python, you can use arithmetic operators like `+`, `-`, `*`, `/`, `%` (modulus), `//` (floor division), and `**` (exponentiation) to perform arithmetic operations.\n\nFor example:\n",
      "metadata": {}
    },
    {
      "cell_type": "code",
      "source": "# This is a simple arithmetic expression to multiply then add integers",
      "metadata": {},
      "execution_count": null,
      "outputs": []
    },
    {
      "cell_type": "code",
      "source": "(3*4)+5",
      "metadata": {
        "trusted": true
      },
      "execution_count": 1,
      "outputs": [
        {
          "execution_count": 1,
          "output_type": "execute_result",
          "data": {
            "text/plain": 17
          },
          "metadata": {}
        }
      ]
    },
    {
      "cell_type": "code",
      "source": "# This will Convert 200 minutes to hours by dividing by 60\nminutes = 200\nhours = minutes / 60\nprint(hours)",
      "metadata": {},
      "execution_count": null,
      "outputs": []
    },
    {
      "cell_type": "code",
      "source": "minutes = 200\nhours = minutes / 60",
      "metadata": {
        "trusted": true
      },
      "execution_count": 11,
      "outputs": [
        {
          "execution_count": 11,
          "output_type": "execute_result",
          "data": {
            "text/plain": 3.3333333333333335
          },
          "metadata": {}
        }
      ]
    },
    {
      "cell_type": "markdown",
      "source": "## Author\nPhilip Ajayi",
      "metadata": {}
    },
    {
      "cell_type": "code",
      "source": "",
      "metadata": {},
      "execution_count": null,
      "outputs": []
    }
  ]
}